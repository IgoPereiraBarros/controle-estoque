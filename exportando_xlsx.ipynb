{
 "cells": [
  {
   "cell_type": "code",
   "execution_count": 1,
   "metadata": {},
   "outputs": [],
   "source": [
    "import xlwt\n",
    "from datetime import datetime\n",
    "from django.http import HttpResponse"
   ]
  },
  {
   "cell_type": "code",
   "execution_count": 2,
   "metadata": {},
   "outputs": [],
   "source": [
    "MDATA = datetime.now().strftime('%Y-%m-%d')"
   ]
  },
  {
   "cell_type": "code",
   "execution_count": 3,
   "metadata": {},
   "outputs": [],
   "source": [
    "def export_xlsx(model, filename, queryset, columns):\n",
    "    response = HttpResponse(content_type='application/ms-excel')\n",
    "    response['Content-Disposition'] = 'attachment; filename=\"%s\"' % filename\n",
    "    \n",
    "    wb = xlwt.Workbook(encoding='utf-8')\n",
    "    ws = wb.add_sheet(model)\n",
    "    \n",
    "    row_num = 0\n",
    "    \n",
    "    font_style = xlwt.XFStyle()\n",
    "    font_style.font.bold = True\n",
    "    \n",
    "    for col_num in range(len(columns)):\n",
    "        ws.write(row_num, col_num, columns[col_num], font_style)\n",
    "    \n",
    "    default_style = xlwt.XFStyle()\n",
    "    \n",
    "    rows = queryset\n",
    "    for row, rowdata in enumerate(rows):\n",
    "        row_num += 1\n",
    "        for col, val in enumerate(rowdata):\n",
    "            ws.write(row_num, col, val, default_style)\n",
    "    wb.save(filename)\n",
    "    \n",
    "    return response\n"
   ]
  },
  {
   "cell_type": "code",
   "execution_count": 9,
   "metadata": {},
   "outputs": [],
   "source": [
    "def exportar_produtos_xlsx():\n",
    "    model = 'Produto'\n",
    "    filename = 'produtos_exportados.xlsx'\n",
    "    _filename = filename.split('.')\n",
    "    filename_final = f'{_filename[0]}_{MDATA}.{_filename[1]}'\n",
    "    queryset = Produto.objects.all().values_list(\n",
    "        'importado',\n",
    "        'ncm',\n",
    "        'produto',\n",
    "        'preco',\n",
    "        'estoque',\n",
    "        'estoque_minimo',\n",
    "        'categoria__categoria'\n",
    "    )\n",
    "    columns = ('Importado', 'NCM', 'Produto', 'Preço', 'Estoque', 'Estoque Mínimo', 'Categoria')\n",
    "    response = export_xlsx(model, filename_final, queryset, columns)\n",
    "    return response"
   ]
  },
  {
   "cell_type": "code",
   "execution_count": 10,
   "metadata": {},
   "outputs": [
    {
     "data": {
      "text/plain": [
       "<HttpResponse status_code=200, \"application/ms-excel\">"
      ]
     },
     "execution_count": 10,
     "metadata": {},
     "output_type": "execute_result"
    }
   ],
   "source": [
    "exportar_produtos_xlsx()"
   ]
  },
  {
   "cell_type": "code",
   "execution_count": null,
   "metadata": {},
   "outputs": [],
   "source": []
  }
 ],
 "metadata": {
  "kernelspec": {
   "display_name": "Django Shell-Plus",
   "language": "python",
   "name": "django_extensions"
  },
  "language_info": {
   "codemirror_mode": {
    "name": "ipython",
    "version": 3
   },
   "file_extension": ".py",
   "mimetype": "text/x-python",
   "name": "python",
   "nbconvert_exporter": "python",
   "pygments_lexer": "ipython3",
   "version": "3.7.3"
  }
 },
 "nbformat": 4,
 "nbformat_minor": 2
}
