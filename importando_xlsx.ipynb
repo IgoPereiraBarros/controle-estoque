{
 "cells": [
  {
   "cell_type": "code",
   "execution_count": 1,
   "metadata": {},
   "outputs": [],
   "source": [
    "import xlrd"
   ]
  },
  {
   "cell_type": "code",
   "execution_count": 2,
   "metadata": {},
   "outputs": [
    {
     "name": "stdout",
     "output_type": "stream",
     "text": [
      "produtos.csv  produtos_exportado.csv  produtos.xlsx\r\n"
     ]
    }
   ],
   "source": [
    "ls fix"
   ]
  },
  {
   "cell_type": "code",
   "execution_count": 3,
   "metadata": {},
   "outputs": [],
   "source": [
    "filename = 'fix/produtos.xlsx'"
   ]
  },
  {
   "cell_type": "code",
   "execution_count": 4,
   "metadata": {},
   "outputs": [],
   "source": [
    "workbook = xlrd.open_workbook(filename)"
   ]
  },
  {
   "cell_type": "code",
   "execution_count": 5,
   "metadata": {},
   "outputs": [],
   "source": [
    "sheet = workbook.sheet_by_index(0)"
   ]
  },
  {
   "cell_type": "code",
   "execution_count": 6,
   "metadata": {},
   "outputs": [],
   "source": [
    "fields = ('produto', 'ncm', 'importado', 'preco', 'estoque', 'estoque_minimo')"
   ]
  },
  {
   "cell_type": "code",
   "execution_count": 7,
   "metadata": {},
   "outputs": [
    {
     "name": "stdout",
     "output_type": "stream",
     "text": [
      "Apontador\n",
      "Caderno 100 folhas\n",
      "Caderno capa dura 200 folhas\n",
      "Caneta esferográfica azul\n",
      "Caneta esferográfica preta\n",
      "Caneta esferográfica vermelha\n",
      "Durex\n",
      "Giz de cera 12 cores\n",
      "Lapiseira 0.3 mm\n",
      "Lapiseira 0.5 mm\n",
      "Lapiseira 0.7 mm\n",
      "Lápis de cor 24 cores\n",
      "Lápis\n",
      "Papel sulfite A4 pacote 100 folhas\n",
      "Pasta elástica\n",
      "Tesoura\n"
     ]
    }
   ],
   "source": [
    "for row in range(1, sheet.nrows): # excluindo os atributos da coluna\n",
    "    print(sheet.row(row)[0].value)"
   ]
  },
  {
   "cell_type": "code",
   "execution_count": 20,
   "metadata": {},
   "outputs": [],
   "source": [
    "categorias = []"
   ]
  },
  {
   "cell_type": "code",
   "execution_count": 21,
   "metadata": {},
   "outputs": [],
   "source": [
    "for row in range(1, sheet.nrows):\n",
    "    categoria = sheet.row(row)[6].value\n",
    "    categorias.append(categoria)"
   ]
  },
  {
   "cell_type": "code",
   "execution_count": 22,
   "metadata": {},
   "outputs": [
    {
     "data": {
      "text/plain": [
       "{'caderno', 'caneta', 'diversos', 'papel'}"
      ]
     },
     "execution_count": 22,
     "metadata": {},
     "output_type": "execute_result"
    }
   ],
   "source": [
    "set(categorias)"
   ]
  },
  {
   "cell_type": "code",
   "execution_count": 23,
   "metadata": {},
   "outputs": [],
   "source": [
    "categorias_unicas = []\n",
    "for categoria in set(categorias):\n",
    "    if categoria:\n",
    "        c = Categoria(categoria=categoria)\n",
    "        categorias_unicas.append(c)"
   ]
  },
  {
   "cell_type": "code",
   "execution_count": 24,
   "metadata": {},
   "outputs": [
    {
     "data": {
      "text/plain": [
       "[<Categoria: papel>,\n",
       " <Categoria: caderno>,\n",
       " <Categoria: diversos>,\n",
       " <Categoria: caneta>]"
      ]
     },
     "execution_count": 24,
     "metadata": {},
     "output_type": "execute_result"
    }
   ],
   "source": [
    "categorias_unicas"
   ]
  },
  {
   "cell_type": "code",
   "execution_count": 25,
   "metadata": {},
   "outputs": [],
   "source": [
    "categorias_unicas = [Categoria(categoria=categoria) for categoria in set(categorias) if categoria]"
   ]
  },
  {
   "cell_type": "code",
   "execution_count": 26,
   "metadata": {},
   "outputs": [
    {
     "data": {
      "text/plain": [
       "[<Categoria: papel>,\n",
       " <Categoria: caderno>,\n",
       " <Categoria: diversos>,\n",
       " <Categoria: caneta>]"
      ]
     },
     "execution_count": 26,
     "metadata": {},
     "output_type": "execute_result"
    }
   ],
   "source": [
    "Categoria.objects.bulk_create(categorias_unicas)"
   ]
  },
  {
   "cell_type": "code",
   "execution_count": 27,
   "metadata": {},
   "outputs": [
    {
     "name": "stdout",
     "output_type": "stream",
     "text": [
      "diversos\n",
      "caderno\n",
      "caderno\n",
      "caneta\n",
      "caneta\n",
      "caneta\n",
      "diversos\n",
      "diversos\n",
      "caneta\n",
      "caneta\n",
      "caneta\n",
      "caneta\n",
      "caneta\n",
      "papel\n",
      "diversos\n",
      "diversos\n"
     ]
    }
   ],
   "source": [
    "aux = []\n",
    "for row in range(1, sheet.nrows):\n",
    "    produto = sheet.row(row)[0].value\n",
    "    ncm = str(int(sheet.row(row)[1].value))\n",
    "    \n",
    "    _importado = sheet.row(row)[2].value\n",
    "    importado = True if _importado == 'True' else False\n",
    "    \n",
    "    preco = sheet.row(row)[3].value\n",
    "    estoque = sheet.row(row)[4].value\n",
    "    estoque_minimo = sheet.row(row)[5].value\n",
    "    \n",
    "    _categoria = sheet.row(row)[6].value\n",
    "    categoria = Categoria.objects.filter(categoria=_categoria).first()\n",
    "    \n",
    "    print(categoria)\n",
    "    \n",
    "    produto = dict(\n",
    "        produto=produto,\n",
    "        ncm=ncm,\n",
    "        importado=importado,\n",
    "        preco=preco,\n",
    "        estoque=estoque,\n",
    "        estoque_minimo=estoque_minimo\n",
    "    )\n",
    "    \n",
    "    #print(produto)\n",
    "    \n",
    "    if categoria:\n",
    "        obj = Produto(categoria=categoria, **produto)\n",
    "    else:\n",
    "        obj = Produto(**produto)\n",
    "    \n",
    "    aux.append(obj)"
   ]
  },
  {
   "cell_type": "code",
   "execution_count": 29,
   "metadata": {},
   "outputs": [
    {
     "data": {
      "text/plain": [
       "[<Produto: Apontador>,\n",
       " <Produto: Caderno 100 folhas>,\n",
       " <Produto: Caderno capa dura 200 folhas>,\n",
       " <Produto: Caneta esferográfica azul>,\n",
       " <Produto: Caneta esferográfica preta>,\n",
       " <Produto: Caneta esferográfica vermelha>,\n",
       " <Produto: Durex>,\n",
       " <Produto: Giz de cera 12 cores>,\n",
       " <Produto: Lapiseira 0.3 mm>,\n",
       " <Produto: Lapiseira 0.5 mm>,\n",
       " <Produto: Lapiseira 0.7 mm>,\n",
       " <Produto: Lápis de cor 24 cores>,\n",
       " <Produto: Lápis>,\n",
       " <Produto: Papel sulfite A4 pacote 100 folhas>,\n",
       " <Produto: Pasta elástica>,\n",
       " <Produto: Tesoura>]"
      ]
     },
     "execution_count": 29,
     "metadata": {},
     "output_type": "execute_result"
    }
   ],
   "source": [
    "Produto.objects.bulk_create(aux)"
   ]
  },
  {
   "cell_type": "code",
   "execution_count": null,
   "metadata": {},
   "outputs": [],
   "source": []
  }
 ],
 "metadata": {
  "kernelspec": {
   "display_name": "Django Shell-Plus",
   "language": "python",
   "name": "django_extensions"
  },
  "language_info": {
   "codemirror_mode": {
    "name": "ipython",
    "version": 3
   },
   "file_extension": ".py",
   "mimetype": "text/x-python",
   "name": "python",
   "nbconvert_exporter": "python",
   "pygments_lexer": "ipython3",
   "version": "3.7.3"
  }
 },
 "nbformat": 4,
 "nbformat_minor": 2
}
